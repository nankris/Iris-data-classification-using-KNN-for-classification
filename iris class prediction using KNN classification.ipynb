{
 "cells": [
  {
   "cell_type": "code",
   "execution_count": null,
   "metadata": {},
   "outputs": [],
   "source": [
    "import pandas as pd\n",
    "import numpy as np\n",
    "import os\n",
    "%matplotlib inline\n",
    "os.chdir(\"iris.csv\")\n",
    "names = ['sepal_length', 'sepal_width', 'petal_length', 'petal_width', 'class']\n",
    "df = pd.read_csv('iris.csv', header = None, names = names)\n",
    "df.head()"
   ]
  },
  {
   "cell_type": "code",
   "execution_count": null,
   "metadata": {},
   "outputs": [],
   "source": [
    "df['is_train'] = np.random.uniform(0, 1, len(df)) <= .75\n",
    "train, test = df[df['is_train'] == True], df[df['is_train'] == False]\n",
    "print('length of train dataset: %d' %(len(train)))\n",
    "print('length of test dataset: %d' %(len(test)))\n",
    "train.columns\n",
    "train_x = train[train.columns[:len(train.columns) - 2]]\n",
    "train_y = train['class']\n",
    "def euclidean_distance(data1, data2):\n",
    "    distance = 0\n",
    "    for i in range(data2.shape[0]):\n",
    "        distance += np.square(data1[i] - data2[i])\n",
    "    return np.sqrt(distance)"
   ]
  },
  {
   "cell_type": "code",
   "execution_count": null,
   "metadata": {},
   "outputs": [],
   "source": [
    "from collections import Counter\n",
    "\n",
    "def knn(train_x, train_y, dis_func, sample, k):\n",
    "    distances = {}\n",
    "    \n",
    "    for i in range(len(train_x)):\n",
    "        d = dis_func(sample, train_x.iloc[i])\n",
    "        distances[i] = d\n",
    "    \n",
    "    sorted_dist = sorted(distances.items(), key = lambda x : (x[1], x[0]))\n",
    "    #print(sorted_dist)\n",
    "    #print(distances.items())\n",
    "    # take k nearest neighbors\n",
    "    neighbors = []\n",
    "    for i in range(k):\n",
    "        neighbors.append(sorted_dist[i][0])\n",
    "    \n",
    "    # convert indices into classes\n",
    "    classes = [train_y.iloc[c] for c in neighbors]\n",
    "    \n",
    "    # count each classes in top k\n",
    "    counts = Counter(classes)\n",
    "    #print(counts)\n",
    "    \n",
    "    # take vote of max number of samples of a class\n",
    "    list_values = list(counts.values())\n",
    "    list_keys = list(counts.keys())\n",
    "    cl = list_keys[list_values.index(max(list_values))]\n",
    "    \n",
    "    return cl\n",
    "\n",
    "sl = knn(train_x, train_y, eucledean_distance, test_x.iloc[3], 5)\n",
    "\n",
    "test_y.iloc[3]\n",
    "def get_accuracy(test_x, test_y, train_x, train_y, k):\n",
    "    correct = 0\n",
    "    for i in range(len(test_x)):\n",
    "        sample = test_x.iloc[i]\n",
    "        true_label = test_y.iloc[i]\n",
    "        predicted_label_euclidean = knn(train_x, train_y, euclidean_distance, sample, k)\n",
    "        if predicted_label_euclidean == true_label:\n",
    "            correct += 1\n",
    "        \n",
    "    accuracy_euclidean = (correct / len(test_x)) * 100\n",
    "    correct = 0    # reset correct value to 0\n",
    "    \n",
    "    print(\"model accuracy with euclidean is %0.2f\" %(accuracy_euclidean))\n",
    "get_accuracy(test_x, test_y, train_x, train_y, 3)"
   ]
  },
  {
   "cell_type": "code",
   "execution_count": null,
   "metadata": {},
   "outputs": [],
   "source": []
  },
  {
   "cell_type": "code",
   "execution_count": null,
   "metadata": {},
   "outputs": [],
   "source": []
  },
  {
   "cell_type": "code",
   "execution_count": null,
   "metadata": {},
   "outputs": [],
   "source": []
  },
  {
   "cell_type": "code",
   "execution_count": null,
   "metadata": {},
   "outputs": [],
   "source": []
  }
 ],
 "metadata": {
  "kernelspec": {
   "display_name": "Python 3",
   "language": "python",
   "name": "python3"
  },
  "language_info": {
   "codemirror_mode": {
    "name": "ipython",
    "version": 3
   },
   "file_extension": ".py",
   "mimetype": "text/x-python",
   "name": "python",
   "nbconvert_exporter": "python",
   "pygments_lexer": "ipython3",
   "version": "3.6.4"
  }
 },
 "nbformat": 4,
 "nbformat_minor": 2
}
